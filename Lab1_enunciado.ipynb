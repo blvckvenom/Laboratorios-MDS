{
  "cells": [
    {
      "cell_type": "markdown",
      "metadata": {
        "cell_id": "097fce6dce21405c911254a775ae3d26",
        "deepnote_cell_type": "markdown",
        "id": "J4_IcuuKZj9Y"
      },
      "source": [
        "<h1><center>Laboratorio 1: Git 👾</center></h1>\n",
        "\n",
        "<center><strong>MDS7202: Laboratorio de Programación Científica para Ciencia de Datos - Primavera 2025</strong></center>"
      ]
    },
    {
      "cell_type": "markdown",
      "metadata": {
        "cell_id": "9e8e8f2ae34e461da4f44508a96d2cf4",
        "deepnote_cell_type": "markdown",
        "id": "AEXIACc7aADv"
      },
      "source": [
        "### Cuerpo Docente:\n",
        "\n",
        "- Profesores: Diego Cortez, Gabriel Iturra\n",
        "- Auxiliares: Melanie Peña, Valentina Rojas\n",
        "- Ayudantes: Nicolás Cabello, Cristopher Urbina"
      ]
    },
    {
      "cell_type": "markdown",
      "metadata": {
        "cell_id": "3e5b48c23e1b48f6a64de41899166179",
        "deepnote_cell_type": "markdown",
        "id": "0HgMMyoCaG8X"
      },
      "source": [
        "### Equipo: **SUPER IMPORTANTE - notebooks sin nombre no serán revisados**\n",
        "\n",
        "- Nombre de alumno 1: Benito Fuentes\n",
        "- Nombre de alumno 2: Sebastián Vergara"
      ]
    },
    {
      "cell_type": "markdown",
      "metadata": {
        "cell_id": "1db7c82b68614d19b112ba3b0d0abe4d",
        "deepnote_cell_type": "markdown",
        "id": "fz77X6glaK6y"
      },
      "source": [
        "### **Link de repositorio de GitHub:** [Insertar Enlace](https://)"
      ]
    },
    {
      "cell_type": "markdown",
      "metadata": {
        "cell_id": "bc3dac65089d4ae6a43c079547dee179",
        "deepnote_cell_type": "markdown",
        "id": "rRwqaxIZaNx3"
      },
      "source": [
        "## Reglas:\n",
        "\n",
        "- **Grupos de 2 personas**\n",
        "- Fecha de entrega: Entregas Martes a las 23:59.\n",
        "- Instrucciones del lab el viernes a las 16:15 en formato online. Asistencia no es obligatoria, pero se recomienda **fuertemente** asistir.\n",
        "- <u>Prohibidas las copias</u>. Cualquier intento de copia será debidamente penalizado con el reglamento de la escuela.\n",
        "- Tienen que subir el laboratorio a u-cursos y a su repositorio de github. Labs que no estén en u-cursos no serán revisados. Recuerden que el repositorio también tiene nota.\n",
        "- Cualquier duda fuera del horario de clases al foro. Mensajes al equipo docente serán respondidos por este medio.\n",
        "- Pueden usar cualquier material del curso que estimen conveniente."
      ]
    },
    {
      "cell_type": "markdown",
      "metadata": {
        "cell_id": "05e4729411a24153837fd13b7f198bd9",
        "deepnote_cell_type": "markdown",
        "id": "bmToL27JaSrf"
      },
      "source": [
        "## Objetivos del lab:\n",
        "\n",
        "\n",
        "- Conocer los elementos básicos que conformar `Git`\n",
        "- Clonar repositorios\n",
        "- Identificar ramas de un repositorio\n",
        "- Reconocer y solucionar problemas entre ramas\n",
        "- Subir cambios a un repositorio"
      ]
    },
    {
      "cell_type": "markdown",
      "metadata": {
        "cell_id": "5ebae9d601bd4d508349ab55297e9f82",
        "deepnote_cell_type": "markdown",
        "id": "bvnPCvrVbJLK"
      },
      "source": [
        "## Parte 1: Conocimiento Teórico (2.5 pts)\n",
        "\n",
        "<p align=\"center\">\n",
        "  <img src=\"https://cdn.thedesigninspiration.com/wp-content/uploads/sites/3/2019/04/macintosh-hdusersbrittanyloefflerdownloadsanig-1.gif\" width=\"350\">\n",
        "</p>"
      ]
    },
    {
      "cell_type": "markdown",
      "metadata": {
        "cell_id": "627494dba4f84520b3ee8b9cbf58ee79",
        "deepnote_cell_type": "markdown",
        "id": "JHl-24XnbNLF"
      },
      "source": [
        "Responda las siguientes preguntas (0.2 pts c/u):\n",
        "\n",
        "1. ¿Qué es `Git` y cómo se relaciona con el control de versiones?\n",
        "\n",
        "2. Nombre y explique 3 diferencias entre `Git` y `Github`.\n",
        "\n",
        "3. ¿Qué es un `hash` y cómo se representa en un `commit`? De un ejemplo.\n",
        "\n",
        "4. ¿Que elementos componen a la estructura de datos de `Git`?\n",
        "\n",
        "5. ¿Que comandos de `Git` sirven para crear un repositorio y hacer seguimiento a cambios en los archivos?"
      ]
    },
    {
      "cell_type": "markdown",
      "metadata": {
        "cell_id": "6d06c40f429044a298b27c666f51f46f",
        "deepnote_cell_type": "markdown",
        "id": "2tXCSkf0caG8"
      },
      "source": [
        "<code>Escriba sus respuestas acá:</code>\n",
        "\n",
        "#1\n",
        "\n",
        "Git es un sistema de control de versiones distribuido (dvcs) que me permite guardar el historial de mis archivos como instantaneas y moverme entre estados de trabajo de forma segura. Se vincula con el control de versiones porque cada commit registra cambios y justifica el por que, entonces puedo revisar cuando y que se modifico. Ademas el repositorio guarda todo en la carpeta oculta .git, asi que el seguimiento vive ahi y no en mis archivos sueltos. En resumen, Git es la herramienta que implementa el VCS de manera local y distribuida.\n",
        "\n",
        "#2 \n",
        "Las diferencias radican en: \n",
        "\n",
        "1) Naturaleza y proposito: Git es la herramienta de control de versiones distribuida que corre en mi equipo y gestiona snapshots y commits, mientras que Github es la plataforma web que aloja repos git y agrega colaboracion, visibilidad y extras sobre el repo.\n",
        "\n",
        "2) Ambito y lugar donde viven: Git trabaja local y guarda todo en la carpeta .git, puedo usarlo sin internet, mientras que Github vive en la nube y mantiene la copia remota del repo con permisos, backups y enlaces para colaborar y compartir.\n",
        "\n",
        "3) Interfaz y colaboracion: Git se usa por linea de comando (add, commit, branch, merge), mientras que Github ofrece interfaz grafica y flujos como pull requests, code review, issues y tableros, facilitando coordinar cambios entre varias personas.\n",
        "\n",
        "#3\n",
        "\n",
        "Un hash en Git es un identificador unico calculado sobre el contenido del objeto; en commits es un SHA1 de 40 caracteres y con unos pocos digitos ya se puede referenciar. Ese hash aparece cuando hago git log y me sirve para apuntar a un commit concreto, un blob o un arbol. Un ejemplo de representacion corta seria algo como 47e1ab, que es un prefijo valido de un hash largo. En practica termino usando ese hash para navegar, comparar o restaurar versiones.\n",
        "\n",
        "#4\n",
        "\n",
        "La estructura de datos de Git es key value y esta compuesta por objetos: blob para el contenido de archivos, tree para directorios y commit para guardar una instantanea con metadata. Los trees pueden contener mas trees y blobs, empezando por un arbol raiz que referencia todo. Cada elemento tiene su hash, lo que hace facil referenciar y verificar integridad. En conjunto, Git modela la historia como una serie de snapshots que conectan estos objetos.\n",
        "\n",
        "#5\n",
        "\n",
        "Para crear un repo uso git init o puedo clonar uno existente con git clone desde un remoto. Para seguir cambios inicio con con git status para ver el estado, luego agrego archivos al staging con git add y finalmente confirmo con git commit (idealmente con -m para un mensaje claro). Para inspeccionar diferencias uso git diff y para ver el historial git log, que muestran que cambie y cuando. Con ese set basico ya manejo el ciclo de trabajo local. \n",
        "\n",
        "\n"
      ]
    },
    {
      "cell_type": "markdown",
      "metadata": {
        "cell_id": "ec9855406e324cc98b59e33500faea84",
        "deepnote_cell_type": "markdown",
        "id": "MACccbP4gU43"
      },
      "source": [
        "Responda si las siguientes afirmaciones son Verdaderas (V) o Falsas (F). Justifique en **cualquiera** de los casos (0.2 pts c/u):\n",
        "\n",
        "\n",
        "6. `Git` siempre resuelve automáticamente los problemas de lineas al hacer merge entre diferentes ramas.\n",
        "7. Ejecutar `git pull` sobre un repositorio es equivalente a ejecutar `git clone`.\n",
        "8. `git status` genera los mismos resultados que `git log`.\n",
        "9. En `Git` es posible deshacer cambios y volver a versiones anteriores del código.\n",
        "10. El comando `git commit` se utiliza para enviar cambios al repositorio remoto."
      ]
    },
    {
      "cell_type": "markdown",
      "metadata": {
        "cell_id": "7e6a5a6e15b045cc9d104cf017825f1a",
        "deepnote_cell_type": "markdown",
        "id": "DFnmCToOgeM3"
      },
      "source": [
        "<code>Escriba sus respuestas acá:</code>\n",
        "\n",
        "#6\n",
        "Falso \n",
        "\n",
        "Git intenta hacer merge automatico, pero si dos ramas cambian las mismas lineas o partes solapadas, aparecen conflictos y hay que resolverlos a mano. En esos casos el usuario edita el archivo, elige que version dejar y luego hace add y commit. O sea, Git ayuda, pero no siempre resuelve solo y sin intervención.\n",
        "\n",
        "#7\n",
        "Falso \n",
        "\n",
        "Git pull se usa dentro de un repo ya creado y hace fetch del remoto y merge en la rama actual. git clone en cambio crea un repositorio nuevo en una carpeta vacia, copia todo el historial y configura el remoto origin. Por lo tanto no son equivalentes ni en uso ni en resultado.\n",
        "\n",
        "#8 \n",
        "Falso \n",
        "\n",
        "Git status muestra el estado del working directory y el staging: que archivos estan modificados, sin seguimiento o listos para commit. git log muestra el historial de commits con hash, autor, fecha y mensaje. Cada comando responde preguntas distintas, asi que no generan lo mismo.\n",
        "\n",
        "#9\n",
        "Verdadero \n",
        "\n",
        "En Git si puedo deshacer cambios y volver a una version anterior del codigo de varias formas segun el caso. Por ejemplo con git checkout <commit> [archivo] para traer una version vieja, git revert para revertir un commit sin reescribir historia, o git reset para mover la rama. Con eso se puede recuperar o deshacer trabajo.\n",
        "\n",
        "#10\n",
        "Falso \n",
        "\n",
        "Git commit solo registra un snapshot en el repositorio local y agrega una entrada al historial. Para enviar cambios al remoto se usa git push indicando el remoto y la rama. En resumen, commit guarda localmente y push publica los cambios en el servidor."
      ]
    },
    {
      "cell_type": "markdown",
      "metadata": {
        "cell_id": "54317cad024744ebaf4938df55ba3b95",
        "deepnote_cell_type": "markdown",
        "id": "LYq55sI2Rjf0"
      },
      "source": [
        "Por último, investigue y comente con sus palabras para qué sirven los siguientes comandos:\n",
        "\n",
        "11. `git stash` (0.25 puntos)\n",
        "12. `git reset`. ¿Cuál es la diferencia de este comando con `git revert`?. (0.25 puntos)"
      ]
    },
    {
      "cell_type": "markdown",
      "metadata": {},
      "source": [
        "#11 \n",
        "El comando de `git stash` se usa para guardar temporalmente los cambios que todavía no quieres hacer commit en el directorio de trabajo y asi dejar el directorio limpio. Es especialmente útil cuando estás trabajando en algo y necesitas cambiar de rama o actualizar el repositorio sin perder lo que ya habías avanzado. Estos cambios se guardan en un stash y despues se pueden recuperar con `git stash pop` o `git stash apply`. \n",
        "\n",
        "#12 \n",
        "El comando de `git reset` se usa para mover el puntero de la rama a un commit anterior, pudiendo eliminar commits posteriores del historial según la opcion utilizada (--soft , --mixed o --hard). Es útil en repositorios locales para \"borrar\" commits o desahacer cambios, pero puede ser riesgoso de usar en repositorios compartidos ya que altera el historial. Por otro lado, `git revert` crea un nuevo commit que invierte los cambios de un commit específico, manteniendo el historial intacto siendo asi la forma mas recomendada de deshacer cambios en repositorios colaborativos. "
      ]
    },
    {
      "cell_type": "markdown",
      "metadata": {
        "cell_id": "3e4d8b9974e4426ca38fd20f4b835a55",
        "deepnote_cell_type": "markdown",
        "id": "i7Em9JkbbRLo"
      },
      "source": [
        "## Parte 2: Creando una presentación personal (1.5 pts)\n",
        "\n",
        "<p align=\"center\">\n",
        "  <img src=\"https://media.tenor.com/arqlNu8gyJYAAAAC/cat-cat-jumping.gif\" width=\"150\">\n",
        "</p>\n",
        "\n"
      ]
    },
    {
      "cell_type": "markdown",
      "metadata": {
        "cell_id": "988648005dba4b9782c6625dfe6ae4ef",
        "deepnote_cell_type": "markdown",
        "id": "XWIHfyrlbYOJ"
      },
      "source": [
        "Para empezar a \"*soltar las manos*\" con `Git`, se les encomienda crear un repositorio con una presentación personal. El repositorio debe contener un breve resumen de quienes son ustedes, sus gustos, experiencias, y cualquier otro detalle interesante que ustedes consideren relevante.\n",
        "\n",
        "Para realizar esto, deben seguir los siguientes pasos:\n",
        "\n",
        "1. Contar con una cuenta de github (1 por persona)\n",
        "2. Crear un repositorio con su nombre de usuario\n",
        "3. Vincular el repositorio a su ambiente local ¿Qué comando(s) me permiten hacer esto?\n",
        "4. Crear un archivo `readme.md` con la información que ustedes deseen compartir.\n",
        "5. Realizar `push` con los cambios generados\n",
        "\n",
        "\n",
        "**Nota: Deben trabajar todos estos puntos desde su ambiente local**\n",
        "\n",
        "*Hint: Una buena opción es usar templates de presentación personal que encuentren en Google, como los que ofrece este [sitio](https://durgeshsamariya.github.io/awesome-github-profile-readme-templates/#/)*.\n",
        "\n",
        "**Entregable:**\n",
        "\n",
        "Enlace al repositorio con la presentación personal.\n",
        "\n",
        "IMPORTANTE: DEBEN ADJUNTAR UN ENLACE POR PERSONA"
      ]
    },
    {
      "cell_type": "markdown",
      "metadata": {},
      "source": [
        "#3\n",
        "Para la parte 3 los comandos utilizados fueron:\n",
        "\n",
        "- git init\n",
        "- git branch -M main\n",
        "- git remote add origin https://github.com/##########/########.git\n",
        "- git add README.md\n",
        "- git commit -m \"#################\"\n",
        "- git push -u origin main"
      ]
    },
    {
      "cell_type": "markdown",
      "metadata": {
        "cell_id": "081b38d55dc54282bc8e3cd300ce9d3e",
        "deepnote_cell_type": "markdown",
        "id": "IIkWyl9tf0Sg"
      },
      "source": [
        "<code>Link Presentacion 1:</code>\n",
        "\n",
        "https://github.com/blvckvenom\n",
        "\n",
        "<code>Link Presentacion 2:</code>\n",
        "\n",
        "https://github.com/Vergaraaa1"
      ]
    },
    {
      "cell_type": "markdown",
      "metadata": {
        "cell_id": "0481a05d2d1a46928f6cfb7762720980",
        "deepnote_cell_type": "markdown",
        "id": "CAzXOwvDY-IG"
      },
      "source": [
        "## Parte 3: Trabajando sobre un repositorio externo (2 pts)\n",
        "\n",
        "<p align=\"center\">\n",
        "  <img src=\"https://media.tenor.com/YXL-0SK15j4AAAAC/dance-animals.gif\" width=\"300\">\n",
        "</p>\n",
        "\n",
        "Tras muchos dolores de cabeza, un grupo de entusiastas académicos decidieron aprender sobre `Git` y así trabajar colaborativamente de forma más ordenada y eficiente. Después de una infinidad de intentos y aprender de sus errores \"*a la mala*\", los académicos lograron levantar un [repositorio](https://github.com/MDS7202/lab1) en `Github`. Usando el repositorio de los académicos, responda las siguientes preguntas (**incluya también los comandos en `Git` ocupados**):\n"
      ]
    },
    {
      "cell_type": "markdown",
      "metadata": {
        "cell_id": "bcef73b2e8604579bde90ed6622abfe9",
        "deepnote_cell_type": "markdown",
        "id": "BFRnAw0rfguR"
      },
      "source": [
        "1. Clone el repositorio a su ambiente local. (0.25 pts)"
      ]
    },
    {
      "cell_type": "markdown",
      "metadata": {
        "cell_id": "5d126ac3819c44479af94d3895bc4c97",
        "deepnote_cell_type": "markdown",
        "id": "KXro32yBeilN"
      },
      "source": [
        "#1\n",
        "\n",
        "Para clonar el repositorio me situe en una carpeta destinada al ramo en mi compuador con:\n",
        "\n",
        "<code>cd ~\\laboratorio\\lab1</code>\n",
        "\n",
        "Luego clone el repositrio en una subcarpeta llamada lab1-github con el siguiente comando: \n",
        "\n",
        "<code>git clone https://github.com/MDS7202/lab1.git lab1-github</code>\n",
        "\n"
      ]
    },
    {
      "cell_type": "markdown",
      "metadata": {
        "cell_id": "e215e4e25b2440f09ac273ba63603986",
        "deepnote_cell_type": "markdown",
        "id": "8QB-GKmQRjf1"
      },
      "source": [
        "2. Descomprima los archivos subidos con la tarea en U-cursos en la carpeta recién clonada de github. Una vez realizado esto, cree un archivo `.gitignore` con el cual omita la carpeta `videos` y los archivos con la extensión `.txt` exceptuando el archivo `171.txt` de la carpeta `texts`. (0.25 pts)"
      ]
    },
    {
      "cell_type": "markdown",
      "metadata": {
        "cell_id": "186233b44d004e3bbd86262d010188b5",
        "deepnote_cell_type": "markdown",
        "id": "7VJ8IIYpRjf1"
      },
      "source": [
        "#2\n",
        "\n",
        "Se descomprimio el archivo subido a u-cursos y se guardo la carpeta de texts y la carpeta de videos en la carpeta clonada de github, luego se aplico el siguiente comando para crear el archivo .gitignore:\n",
        "\n",
        "@\"\n",
        "*\n",
        "\n",
        "!texts/\n",
        "\n",
        "texts/*.txt\n",
        "\n",
        "!texts/171.txt\n",
        "\n",
        "\"@ | Out-File -Encoding utf8 .gitignore\n",
        "\n"
      ]
    },
    {
      "cell_type": "markdown",
      "metadata": {
        "cell_id": "1de150590a41484a988b8e46616a2324",
        "deepnote_cell_type": "markdown",
        "id": "q2qmiDyjt2M_"
      },
      "source": [
        "3. Inspeccione brevemente el repositorio: ¿Cual es el objetivo del proyecto? Explique brevemente la estructura del proyecto, asi como también cada elemento que lo conforma. (0.25 pts)"
      ]
    },
    {
      "cell_type": "markdown",
      "metadata": {
        "cell_id": "082ca01c865e48e28352b280400c47b6",
        "deepnote_cell_type": "markdown",
        "id": "aBHpR8VTftkT"
      },
      "source": [
        "#3\n",
        "\n",
        "Para esta pregunta simplemente se revisaron los archivos y luego con el comando de \"python main.py\" se pudo observar como funciona el programa.\n",
        "Se puede ver que el objetivo del proyecto es crear un programa que, dado el nombre de un animal, entregue su sonido. La estructura es sencilla, esta el archivo main.py que actua como punto de entrada y pide por la consola el nombre del animal deseado, luego esta llama a la funcion animales.py la cual imprime el sonido del animal o lanza un error si es que el animal no esta contemplado. Finalmente se encuentra el archivo readme.md que contiene en una linea la descripcion del proyecto. "
      ]
    },
    {
      "cell_type": "markdown",
      "metadata": {
        "cell_id": "3aab4a3ee0c246e1be955680ad653fb8",
        "deepnote_cell_type": "markdown",
        "id": "XFwqcpLZfylf"
      },
      "source": [
        "4. Identifique los últimos cambios al repositorio, reconociendo las principales ramas de trabajo. ¿Son informativos los `commit` realizados? (0.25 pts)\n",
        "*Hint: Se recomienda usar los argumentos `all`, `graph` y `decorate`*"
      ]
    },
    {
      "cell_type": "markdown",
      "metadata": {
        "cell_id": "0fab79a360ac4c6a9ca0ab884f85c7e1",
        "deepnote_cell_type": "markdown",
        "id": "cmWfXBkOhog0"
      },
      "source": [
        "#4 \n",
        "\n",
        "Para esta pregunta primero se usó el comando <code>git branch -vv</code>, este sirve para ver la lista de las ramas locales, sus commits más recientes y a qué ramas remotas están vinculadas. En nuestro caso, se utilizó para ver en qué rama estoy situado. Luego se utilizó el comando <code>git branch -a</code>, este comando sirve para ver todas las ramas, tanto locales como remotas, y en este contexto se usó para identificar las ramas de trabajo más relevantes. Después se utilizó el comando <code>git log --all --graph --decorate --oneline -n 30</code>, el cual muestra los últimos commits con un gráfico de ramas, referencias y mensajes en una sola línea. Esto sirvió para entender más rápidamente dónde se separan y dónde se unen las ramas, además de ver sus últimos cambios. Finalmente, se utilizó el comando <code>git for-each-ref --sort=-committerdate --count=10 --format=\"%(committerdate:short) %(refname:short) %(objectname) %(subject)\" refs/heads refs/remotes/origin</code>, que entrega una lista de ramas ordenadas por fecha del último commit, mostrando el hash y el asunto, para tener un resumen más completo de las ramas que tuvieron la actividad más reciente.\n",
        "\n",
        "En cuanto a los últimos cambios, podemos observar que la rama main tiene un commit con el mansaje \"Se separa el proyecto en módulos\" (con un hash corto de 362fe21), donde el código fue reorganizado, otro commit previo de \"se agrega funcion\" (c8b1a62) y un ultimo commit de \"primer commit\" (b262d86). Por otro lado, esta la rama de fix-ifs que tiene un commit adicional de \"fix ifs\" (25543a3), cuyo objetivo se puede deducir es corregir la estructura de los ifs en el archivo animales.py. \n",
        "\n",
        "Respecto a la calidad de los commit, podemos decir que son breves y que no contienen mucha informacion. Hay frases como \"se agrega funcion\" o \"fix ifs\" que no explican claramente qué se cambió ni por qué. Lo ideal sería mensajes más descriptivos pero sin llegar a ser extremadamente largos, por ejemplo: \"agregar función para imprimir sonido del animal\" o \"fix de los ifs para evitar errores de reconocimiento\". Esto ayudaría a comprender mejor la intención y el alcance de cada cambio en el entorno colaborativo."
      ]
    },
    {
      "cell_type": "markdown",
      "metadata": {
        "cell_id": "d07b24d21f2343fb9a7e6a5db74e98c3",
        "deepnote_cell_type": "markdown",
        "id": "Vqbj9HdXrUnN"
      },
      "source": [
        "5. Uno de los académicos se da cuenta que la rama principal de trabajo no se ejecuta correctamente para todos los argumentos. Señale y explique el error en el código e identifique a la persona que lo cometió usando `git blame` (0.25 pts)\n",
        "\n",
        "*Hint: Le puede ser útil esta [documentación](https://www.atlassian.com/es/git/tutorials/inspecting-a-repository/git-blame).*"
      ]
    },
    {
      "cell_type": "markdown",
      "metadata": {
        "cell_id": "bc5b0f9c639643108f8e66687b721732",
        "deepnote_cell_type": "markdown",
        "id": "5ajhV2Iar3tV"
      },
      "source": [
        "#5 \n",
        "\n",
        "Para esta parte se utilizo el comando de <code>git blame</code> para ver que usuario hizo los cambios y realizo el error. \n",
        "\n",
        "El error en el código está en que se utilizaron varios `if` seguidos en lugar de usar `elif`. Esto hace que aunque un animal sea reconocido e imprima su sonido correctamente, se ejecute igualmente el bloque de `else` despues y lance el error de \"animal no reconocido\". Este error fue cometido por el usuario \"mezosky\" el 23 de marzo del año 2023 en el commit con hash 362fe21e.\n"
      ]
    },
    {
      "cell_type": "markdown",
      "metadata": {
        "cell_id": "f3f4e78e6d9145ebbb120c0a2e4aade6",
        "deepnote_cell_type": "markdown",
        "id": "m8J3uE7MhqTA"
      },
      "source": [
        "6. Busque los siguientes `commit`:\n",
        "\n",
        "- `c8b1a62d7299552b0654f930d695b33109214111`\n",
        "- `362fe21ee44f53ee944cee4ba484600308f83d78`\n",
        "- `25543a3baf77292baf849726784ca005473acab1`\n",
        "\n",
        "¿Qué diferencias existen entre cada uno? (0.25 pts)"
      ]
    },
    {
      "cell_type": "markdown",
      "metadata": {
        "cell_id": "696ed361ac0c41c8a214cfad9dcb39e6",
        "deepnote_cell_type": "markdown",
        "id": "sNHnZsgIitGh"
      },
      "source": [
        "#6\n",
        "\n",
        "Para esta parte primero se corrieron los comandos de <code>git show c8b1a62</code> , <code>git show 362fe21</code> y <code>git show 25543a3</code> para ver lo que hace cada commit. Luego se utilizaron los comandos de <code>git diff 362fe21 25543a3</code>, <code>git diff c8b1a62 25543a3</code> y <code>git diff 362fe21 c8b1a62</code>\n",
        "\n",
        "El commit `c8b1a62d7299552b0654f930d695b33109214111` dice \"se agrega funcion\" y vemos que agrega el archivo main.py con la primera versión de la función principal del programa. \n",
        "\n",
        "El commit `362fe21ee44f53ee944cee4ba484600308f83d78` dice \"Se separa el proyecto en modulos\" y vemos que agrega el archivo animales.py incluyendo el error ya mencionado en la parte anterior. \n",
        "\n",
        "El commit `25543a3baf77292baf849726784ca005473acab1` dice \"fix ifs\" y vemos que modifico el archivo de main.py, en base a la descripcion podemos asumir que arreglaba un error con los ifs. \n",
        "\n",
        "Con los comandos de `git diff` pudimos notar que las diferencias entre los commits son los distintos enfoques que tienen, el commit de `c8b1a62d7299552b0654f930d695b33109214111` es un commit que agrega la funcion main.py y podriamos decir que es como el inicio de la escritura del programa, por otro lado el commit de `362fe21ee44f53ee944cee4ba484600308f83d78` agrega la funcion incluida en el archivo animales.py de esta forma continuando con el proyecto, ademas podemos inferir que al decir se separa el proyecto el modulos quizas este toma parte del main y lo pone en este archivo de animales.py. Finalmente el commit de `25543a3baf77292baf849726784ca005473acab1` dice que hace un arreglo, osea que arreglo un error pero vemos que este solo modifica el archivo main.py por lo que podemos asumir que habia un error en ese archivo con los ifs y que este commit lo soluciona. "
      ]
    },
    {
      "cell_type": "markdown",
      "metadata": {
        "cell_id": "b4e18f8ce94c430f85915c4e2732d05b",
        "deepnote_cell_type": "markdown",
        "id": "WQIPbfNCgpxC"
      },
      "source": [
        "7. Realice una `merge` de la rama `fix-ifs` con la rama `main` y describa lo que ocurre. ¿Qué parte del código podría estar ocasionando esto? (0.25 pts)"
      ]
    },
    {
      "cell_type": "markdown",
      "metadata": {
        "cell_id": "36da6a0d4f4a427bbccac09e2ae965fd",
        "deepnote_cell_type": "markdown",
        "id": "ypH_6lL5ioZz"
      },
      "source": [
        "#7\n",
        "\n",
        "Para esta parte se utilizo el comando de <code> git merge origin/fix-ifs</code> y se obtuvo el error:\n",
        "\n",
        "\"CONFLICT (content): Merge conflict in main.py\n",
        "Automatic merge failed; fix conflicts and then commit the result.\"\n",
        "\n",
        "Aquí notamos que al intentar hacer el merge de la rama fix-ifs con la rama main, se produce un conflicto en el archivo main.py, ya que ambas ramas modifican la misma sección del código de forma incompatible. Por un lado, en la rama main la función está separada en main.py y animales.py, mientras que en la rama de fix-ifs la función corregida se encuentra en main.py usando elif en lugar de varios ifs. Esta diferencia es la que ocasiona el conflicto. "
      ]
    },
    {
      "cell_type": "markdown",
      "metadata": {
        "cell_id": "09787ab449c543479e5cc54c2a3b6c19",
        "deepnote_cell_type": "markdown",
        "id": "GYfODCjeivkU"
      },
      "source": [
        "8. Cree una rama nueva y proponga una solución al problema anterior, adjuntando el código corregido y señalando las líneas modificadas. (0.25 pts)"
      ]
    },
    {
      "cell_type": "markdown",
      "metadata": {
        "cell_id": "6d963fba3f2d4c17a4b281c7d3f4fb8b",
        "deepnote_cell_type": "markdown",
        "id": "8heBxDU9iziT"
      },
      "source": [
        "#8 \n",
        "\n",
        "Primero como el error no me dejaba continuar decididí utilizar el comando de <code>git checkout --theirs main.py</code> para tener el main.py como estaba en la rama de fix-ifs y como este no tiene dependencias con animales.py decidi borrarlo tambien con el comando de <code>git rm animales.py</code>. Con esto se resolvio el conflicto y el proyecto quedó consistente. Luego corri el comando de <code>git checkout -b fix-conflict</code> para crear una nueva rama llamada fix-conflict y situarme en ella, dejando guardada la solución al problema.\n",
        "\n",
        "El código corregido del main queda de la forma:\n",
        "\n",
        "\n",
        "```python\n",
        "def animales(input):\n",
        "    \n",
        "    '''\n",
        "    Como hace el animalito?\n",
        "    '''\n",
        "    \n",
        "    if input.lower() == 'gato':\n",
        "        print('miau')\n",
        "    elif input.lower() == 'perro':\n",
        "        print('guau')\n",
        "    elif input.lower() == 'fox':\n",
        "        print('https://www.youtube.com/watch?v=jofNR_WkoCE')\n",
        "    else:\n",
        "        raise ValueError('animal no reconocido :(')\n",
        "\n",
        "if __name__ == '__main__':\n",
        "    print(\"Ingrese el animalito para saber que dice:\")\n",
        "    animal = input()\n",
        "    animales(animal)\n",
        "\n",
        "```\n",
        "\n",
        "\n",
        "Podemos notar que se eliminó la linea de importanción del archivo animales.py, se agregó la definición de la función animales(input) directamente en el main.py y dentro de la funcion se reemplazaron los if encadenados por elif corrgigiendo el problema. "
      ]
    },
    {
      "cell_type": "markdown",
      "metadata": {
        "cell_id": "8a47d4bf8b3045d68e4f29bb449c87f1",
        "deepnote_cell_type": "markdown",
        "id": "Av8ebB9jkALO"
      },
      "source": [
        "## Fin"
      ]
    },
    {
      "cell_type": "markdown",
      "metadata": {
        "cell_id": "cec4b53942ed489f8f8b63d0e9d4f3e5",
        "deepnote_cell_type": "markdown",
        "id": "aQqZT9fSkBK8"
      },
      "source": [
        "Eso ha sido todo por ahora!! Esperamos que este laboratorio les haya gustado y servido para trabajar con `Git`. Recuerden los dias de plazo que tienen disponibles y que ante cualquier duda no duden en contactar al equipo docente.\n",
        "\n",
        "Nos vemos!!\n",
        "\n",
        "<p align=\"center\">\n",
        "  <img src=\"https://media.tenor.com/OYLdav9k9LkAAAAd/kitty-cat.gif\" width=\"350\">\n",
        "</p>\n"
      ]
    }
  ],
  "metadata": {
    "colab": {
      "provenance": []
    },
    "deepnote_execution_queue": [],
    "deepnote_notebook_id": "62cd20d52b9a4810ada15644630456dc",
    "language_info": {
      "name": "python"
    }
  },
  "nbformat": 4,
  "nbformat_minor": 0
}
